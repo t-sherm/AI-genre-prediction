{
 "cells": [
  {
   "cell_type": "code",
   "execution_count": 8,
   "id": "78064e2f",
   "metadata": {},
   "outputs": [
    {
     "name": "stderr",
     "output_type": "stream",
     "text": [
      "/Users/jackcui/anaconda3/lib/python3.10/site-packages/sklearn/neural_network/_multilayer_perceptron.py:684: ConvergenceWarning: Stochastic Optimizer: Maximum iterations (1000) reached and the optimization hasn't converged yet.\n",
      "  warnings.warn(\n",
      "/Users/jackcui/anaconda3/lib/python3.10/site-packages/sklearn/neural_network/_multilayer_perceptron.py:684: ConvergenceWarning: Stochastic Optimizer: Maximum iterations (1000) reached and the optimization hasn't converged yet.\n",
      "  warnings.warn(\n",
      "/Users/jackcui/anaconda3/lib/python3.10/site-packages/sklearn/neural_network/_multilayer_perceptron.py:684: ConvergenceWarning: Stochastic Optimizer: Maximum iterations (1000) reached and the optimization hasn't converged yet.\n",
      "  warnings.warn(\n",
      "/Users/jackcui/anaconda3/lib/python3.10/site-packages/sklearn/neural_network/_multilayer_perceptron.py:684: ConvergenceWarning: Stochastic Optimizer: Maximum iterations (1000) reached and the optimization hasn't converged yet.\n",
      "  warnings.warn(\n",
      "/Users/jackcui/anaconda3/lib/python3.10/site-packages/sklearn/neural_network/_multilayer_perceptron.py:684: ConvergenceWarning: Stochastic Optimizer: Maximum iterations (1000) reached and the optimization hasn't converged yet.\n",
      "  warnings.warn(\n"
     ]
    },
    {
     "name": "stdout",
     "output_type": "stream",
     "text": [
      "dict_keys(['cv', 'error_score', 'estimator__activation', 'estimator__alpha', 'estimator__batch_size', 'estimator__beta_1', 'estimator__beta_2', 'estimator__early_stopping', 'estimator__epsilon', 'estimator__hidden_layer_sizes', 'estimator__learning_rate', 'estimator__learning_rate_init', 'estimator__max_fun', 'estimator__max_iter', 'estimator__momentum', 'estimator__n_iter_no_change', 'estimator__nesterovs_momentum', 'estimator__power_t', 'estimator__random_state', 'estimator__shuffle', 'estimator__solver', 'estimator__tol', 'estimator__validation_fraction', 'estimator__verbose', 'estimator__warm_start', 'estimator', 'n_iter', 'n_jobs', 'param_distributions', 'pre_dispatch', 'random_state', 'refit', 'return_train_score', 'scoring', 'verbose'])\n",
      "{'solver': 'adam', 'max_iter': 10000, 'learning_rate': 'adaptive', 'hidden_layer_sizes': 53, 'alpha': 0.5, 'activation': 'tanh'}\n"
     ]
    }
   ],
   "source": [
    "'''RandomizedSearch the best parameters'''\n",
    "import pandas as pd\n",
    "from sklearn.model_selection import train_test_split\n",
    "import numpy as np\n",
    "import math\n",
    "from scipy.stats import randint as sp_randint\n",
    "from sklearn.neural_network import MLPClassifier\n",
    "import random\n",
    "from sklearn.model_selection import RandomizedSearchCV\n",
    "#step1  \n",
    "filename = 'training_data_Final.csv'\n",
    "df = pd.read_csv(filename)\n",
    "\n",
    "#Step 2: Fit a neural network \n",
    "x_train_data=df.iloc[:, 1:190]\n",
    "y_train_data=df.iloc[:,0] \n",
    "\n",
    "parameter_space = { 'hidden_layer_sizes': [sp_randint.rvs(1,200,1),sp_randint.rvs(1,200,1)], \n",
    "                    'activation': ['tanh', 'relu', 'logistic'],\n",
    "                   'solver': ['sgd', 'adam'],\n",
    "                   \n",
    "                   'alpha':[0.00001,0.0001,0.001,0.01,0.1,0.2,0.3,0.4,0.5,0.6,0.7,0.8,0.9] ,\n",
    "                   'max_iter':[1000,2000,10000,50000],\n",
    "                   'learning_rate': ['constant','adaptive']}\n",
    "mlp=MLPClassifier()\n",
    "estimator = RandomizedSearchCV(mlp, parameter_space, n_jobs=6)\n",
    "estimator.fit(x_train_data, y_train_data)\n",
    "print(estimator.get_params().keys())\n",
    "print (estimator.best_params_)\n"
   ]
  },
  {
   "cell_type": "code",
   "execution_count": null,
   "id": "05463d0f",
   "metadata": {},
   "outputs": [],
   "source": [
    "#{'solver': 'sgd', 'max_iter': 2000, 'learning_rate': 'constant', 'hidden_layer_sizes': 69, 'alpha': 0.6, 'activation': 'tanh'}\n",
    "#{'solver': 'sgd', 'max_iter': 2000, 'learning_rate': 'adaptive', 'hidden_layer_sizes': 57, 'alpha': 0.8, 'activation': 'tanh'}\n",
    "#{'solver': 'adam', 'max_iter': 50000, 'learning_rate': 'adaptive', 'hidden_layer_sizes': 96, 'alpha': 0.2, 'activation': 'logistic'}\n",
    "#{'solver': 'adam', 'max_iter': 10000, 'learning_rate': 'adaptive', 'hidden_layer_sizes': 53, 'alpha': 0.5, 'activation': 'tanh'}"
   ]
  },
  {
   "cell_type": "code",
   "execution_count": 11,
   "id": "b69d49bf",
   "metadata": {},
   "outputs": [
    {
     "name": "stdout",
     "output_type": "stream",
     "text": [
      "0.4318662016648423\n",
      "0.37582730882802157\n"
     ]
    }
   ],
   "source": [
    "'''Use best parameters to train and test'''\n",
    " \n",
    "import pandas as pd\n",
    "from sklearn.model_selection import train_test_split\n",
    "import numpy as np\n",
    "import math\n",
    "from scipy.stats import randint as sp_randint\n",
    "from sklearn.neural_network import MLPClassifier\n",
    "import random\n",
    "from sklearn.model_selection import RandomizedSearchCV\n",
    "df2 = pd.read_csv('test_data_Final.csv')\n",
    "df = pd.read_csv('training_data_Final.csv')\n",
    "\n",
    "x_train_data=df.iloc[:, 1:190]\n",
    "y_train_data=df.iloc[:,0] \n",
    "\n",
    "#Step 2: Fit a neural network \n",
    "x_testing_data=df2.iloc[:, 1:190]\n",
    "y_testing_data=df2.iloc[:,0] \n",
    "\n",
    "clf = MLPClassifier(alpha=0.5, hidden_layer_sizes=(53,53),\n",
    "            solver='adam',activation = 'tanh' ,learning_rate='adaptive',max_iter=10000)\n",
    "\n",
    " \n",
    "clf.fit(x_train_data, y_train_data)\n",
    "train_score = clf.score(x_train_data, y_train_data)\n",
    "test_score = clf.score(x_testing_data, y_testing_data)\n",
    "\n",
    "print(train_score)\n",
    "print(test_score)"
   ]
  },
  {
   "cell_type": "code",
   "execution_count": 15,
   "id": "9ea67a40",
   "metadata": {},
   "outputs": [],
   "source": [
    "#y_testing_data[100:150]"
   ]
  },
  {
   "cell_type": "code",
   "execution_count": 14,
   "id": "f02e47e3",
   "metadata": {},
   "outputs": [],
   "source": [
    "#clf.predict(x_testing_data[100:150])\n"
   ]
  },
  {
   "cell_type": "code",
   "execution_count": null,
   "id": "aed9a943",
   "metadata": {},
   "outputs": [],
   "source": [
    " "
   ]
  },
  {
   "cell_type": "code",
   "execution_count": null,
   "id": "7410fac0",
   "metadata": {},
   "outputs": [],
   "source": []
  }
 ],
 "metadata": {
  "kernelspec": {
   "display_name": "Python 3 (ipykernel)",
   "language": "python",
   "name": "python3"
  },
  "language_info": {
   "codemirror_mode": {
    "name": "ipython",
    "version": 3
   },
   "file_extension": ".py",
   "mimetype": "text/x-python",
   "name": "python",
   "nbconvert_exporter": "python",
   "pygments_lexer": "ipython3",
   "version": "3.10.9"
  }
 },
 "nbformat": 4,
 "nbformat_minor": 5
}
