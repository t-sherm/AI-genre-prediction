{
 "cells": [
  {
   "cell_type": "code",
   "execution_count": 5,
   "metadata": {},
   "outputs": [],
   "source": [
    "import numpy as np\n",
    "import pandas as pd\n",
    "\n",
    "\n",
    "# Load data from csv\n",
    "TRAINING_DATA_PATH = 'C:/Users/canla/Desktop/Grad_School/AAI_695_Applied_ML/Project/AI-genre-prediction/data_processed/Iteration_2/training_data_Final.csv'\n",
    "TEST_DATA_PATH = 'C:/Users/canla/Desktop/Grad_School/AAI_695_Applied_ML/Project/AI-genre-prediction/data_processed/Iteration_2/test_data_Final.csv'\n",
    "\n",
    "train_set = pd.read_csv(TRAINING_DATA_PATH)\n",
    "test_set = pd.read_csv(TEST_DATA_PATH)\n",
    "\n",
    "# Split train and test set into features and response variables\n",
    "y_train = train_set[\"Genre\"].to_numpy()\n",
    "X_train = train_set.iloc[:, 1:].to_numpy()\n",
    "y_test = test_set[\"Genre\"].to_numpy()\n",
    "X_test = test_set.iloc[:, 1:].to_numpy()\n"
   ]
  },
  {
   "cell_type": "code",
   "execution_count": 7,
   "metadata": {},
   "outputs": [
    {
     "name": "stdout",
     "output_type": "stream",
     "text": [
      "Training set accuracy: 0.6154825242471298\n",
      "Test set accuracy: 0.38336218307707975\n"
     ]
    }
   ],
   "source": [
    "from sklearn.ensemble import RandomForestClassifier, BaggingClassifier, VotingClassifier\n",
    "from sklearn import svm\n",
    "from sklearn.neural_network import MLPClassifier\n",
    "\n",
    "\n",
    "# Create the three different classifiers (SVM, Random Forests, ANN)\n",
    "svm_clf = svm.SVC(kernel='rbf', C=100, gamma='scale', probability=True)\n",
    "rnd_clf_bagging = BaggingClassifier(base_estimator=RandomForestClassifier(n_estimators=100, min_samples_split=100, min_samples_leaf=100, max_features=30, max_depth=None, criterion='gini'), n_estimators=10)\n",
    "mlp_clf = MLPClassifier(alpha=0.5, hidden_layer_sizes=(53,53), solver='adam',activation = 'tanh' ,learning_rate='adaptive',max_iter=10000)\n",
    "\n",
    "# Create the voting classifier from the three classifiers, using soft voting \n",
    "vc = VotingClassifier(estimators=[('svm_clf', svm_clf), ('rnd_clf_bagging', rnd_clf_bagging), ('mlp_clf', mlp_clf)], voting='soft')\n",
    "\n",
    "# Fit the voting classifier to the training data\n",
    "vc.fit(X_train, y_train)\n",
    "\n",
    "# Evaluate the accuracy score for both the training and test sets\n",
    "accuracy_train = vc.score(X_train, y_train)\n",
    "accuracy_test = vc.score(X_test, y_test)\n",
    "\n",
    "print(\"Training set accuracy:\", accuracy_train) # 0.6154825242471298\n",
    "print(\"Test set accuracy:\", accuracy_test) # 0.38336218307707975\n",
    "\n"
   ]
  }
 ],
 "metadata": {
  "kernelspec": {
   "display_name": "base",
   "language": "python",
   "name": "python3"
  },
  "language_info": {
   "codemirror_mode": {
    "name": "ipython",
    "version": 3
   },
   "file_extension": ".py",
   "mimetype": "text/x-python",
   "name": "python",
   "nbconvert_exporter": "python",
   "pygments_lexer": "ipython3",
   "version": "3.9.13"
  },
  "orig_nbformat": 4
 },
 "nbformat": 4,
 "nbformat_minor": 2
}
